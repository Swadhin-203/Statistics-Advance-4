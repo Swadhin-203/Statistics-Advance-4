{
 "cells": [
  {
   "cell_type": "markdown",
   "id": "42756b60",
   "metadata": {},
   "source": [
    "# Q1: What is the difference between a t-test and a z-test? Provide an example scenario where you would1use each type of test.\n",
    "Ans:Both t-tests and z-tests are statistical tests used to compare a sample mean to a population mean. However, the key difference between the two tests is that the z-test is used when the population standard deviation is known, whereas the t-test is used when the population standard deviation is unknown and estimated from the sample data.\n",
    "\n",
    "In a scenario where the population standard deviation is known, a z-test is more appropriate because it assumes that the sample mean follows a normal distribution with a known population standard deviation. On the other hand, when the population standard deviation is unknown, a t-test is more appropriate because it uses the sample standard deviation as an estimate of the population standard deviation.\n",
    "\n",
    "For example, suppose a researcher wants to test whether the mean height of a sample of students is significantly different from the population mean height of all students in a particular school district. If the population standard deviation of student heights is known, the researcher can use a z-test to calculate the test statistic and p-value. However, if the population standard deviation is unknown, the researcher can use a t-test instead.\n",
    "\n",
    "Another example is if a pharmaceutical company wants to test the effectiveness of a new drug on a disease. The company can compare the mean improvement in symptoms in a treatment group to the mean improvement in symptoms in a control group. If the population standard deviation of symptom improvement is known, a z-test can be used to determine whether the difference in means is statistically significant. If the population standard deviation is unknown, a t-test can be used instead."
   ]
  },
  {
   "cell_type": "markdown",
   "id": "4d3b4c8d",
   "metadata": {},
   "source": [
    "# Q2: Differentiate between one-tailed and two-tailed tests.\n",
    "Ans:One-tailed and two-tailed tests are types of statistical hypothesis tests used to determine whether a sample statistic is significantly different from a hypothesized population parameter.\n",
    "\n",
    "A one-tailed test, also known as a directional test, is used when the alternative hypothesis specifies the direction of the difference between the sample statistic and the hypothesized parameter. For example, suppose a researcher wants to test whether a new training program improves employee productivity. The null hypothesis would be that the training program has no effect on productivity, while the alternative hypothesis would be that the training program increases productivity. In this case, the researcher would use a one-tailed test because the direction of the effect is specified as an increase in productivity.\n",
    "\n",
    "A two-tailed test, also known as a nondirectional test, is used when the alternative hypothesis does not specify the direction of the difference between the sample statistic and the hypothesized parameter. For example, suppose a researcher wants to test whether a new medication has an effect on blood pressure. The null hypothesis would be that the medication has no effect on blood pressure, while the alternative hypothesis would be that the medication has an effect on blood pressure, whether that effect is an increase or decrease. In this case, the researcher would use a two-tailed test because the direction of the effect is not specified.\n",
    "\n",
    "The choice between a one-tailed and two-tailed test depends on the research question and the directionality of the effect being investigated. A one-tailed test is more powerful than a two-tailed test when the effect direction is known, as it concentrates statistical power in one direction. However, if the effect direction is not known, a two-tailed test is more appropriate."
   ]
  },
  {
   "cell_type": "markdown",
   "id": "02afa339",
   "metadata": {},
   "source": [
    "# Q3: Explain the concept of Type 1 and Type 2 errors in hypothesis testing. Provide an example scenario for each type of error.\n",
    "Ans:Type 1 and Type 2 errors are concepts used in hypothesis testing to describe the potential errors that can occur when rejecting or failing to reject a null hypothesis.\n",
    "\n",
    "Type 1 error, also known as a false positive, occurs when the null hypothesis is rejected even though it is true. In other words, a Type 1 error is when the researcher concludes that there is a significant difference or relationship when there is actually no significant difference or relationship in the population. The probability of making a Type 1 error is denoted by the alpha level or significance level, which is typically set at 0.05 or 0.01.\n",
    "\n",
    "An example of a Type 1 error is a criminal trial where the defendant is wrongly convicted of a crime. The null hypothesis in this scenario is that the defendant is innocent, and the alternative hypothesis is that the defendant is guilty. If the jury convicts the defendant even though they are innocent, a Type 1 error has occurred.\n",
    "\n",
    "Type 2 error, also known as a false negative, occurs when the null hypothesis is not rejected even though it is false. In other words, a Type 2 error is when the researcher fails to conclude that there is a significant difference or relationship when there is actually a significant difference or relationship in the population. The probability of making a Type 2 error is denoted by the beta level or the Type 2 error rate.\n",
    "\n",
    "An example of a Type 2 error is a medical test where a patient is incorrectly diagnosed as not having a disease when they actually do. The null hypothesis in this scenario is that the patient does not have the disease, and the alternative hypothesis is that the patient does have the disease. If the medical test concludes that the patient does not have the disease even though they do, a Type 2 error has occurred.\n",
    "\n",
    "In summary, Type 1 and Type 2 errors are important concepts to consider when conducting hypothesis tests as they can impact the validity of the research findings. Researchers must carefully select appropriate alpha and beta levels to minimize the risk of making these errors."
   ]
  },
  {
   "cell_type": "markdown",
   "id": "675e408f",
   "metadata": {},
   "source": [
    "# Q4: Explain Bayes's theorem with an example.\n",
    "Ans:Bayes's theorem is a mathematical formula that describes the relationship between conditional probabilities of two events. It is named after the Reverend Thomas Bayes, an 18th-century British statistician and theologian. Bayes's theorem is often used in statistical inference and decision-making, particularly in situations where uncertainty and incomplete information exist.\n",
    "\n",
    "The formula for Bayes's theorem is:\n",
    "\n",
    "P(A|B) = [P(B|A) x P(A)] / P(B)\n",
    "\n",
    "where:\n",
    "\n",
    "P(A|B) is the probability of event A given event B\n",
    "P(B|A) is the probability of event B given event A\n",
    "P(A) is the prior probability of event A\n",
    "P(B) is the prior probability of event B\n",
    "An example of using Bayes's theorem is in medical diagnosis. Suppose a patient presents with symptoms that are associated with a certain disease. The physician wants to know the probability that the patient has the disease given their symptoms.\n",
    "\n",
    "Event A: The patient has the disease.\n",
    "Event B: The patient exhibits the symptoms.\n",
    "The physician can use Bayes's theorem to calculate the probability of the patient having the disease given their symptoms:\n",
    "\n",
    "P(A|B): The probability of the patient having the disease given their symptoms.\n",
    "P(B|A): The probability of the patient exhibiting the symptoms given that they have the disease.\n",
    "P(A): The prior probability of the patient having the disease.\n",
    "P(B): The prior probability of the patient exhibiting the symptoms.\n",
    "Suppose the prior probability of the patient having the disease is 0.05 (5% of the population has the disease) and the probability of exhibiting the symptoms given that the patient has the disease is 0.95 (95% of patients with the disease exhibit the symptoms). Additionally, suppose the probability of exhibiting the symptoms in the population without the disease is 0.10 (10% of the population exhibits the symptoms).\n",
    "\n",
    "Using Bayes's theorem, the physician can calculate the probability of the patient having the disease given their symptoms:\n",
    "\n",
    "P(A|B) = [P(B|A) x P(A)] / P(B)\n",
    "P(A|B) = [0.95 x 0.05] / [(0.95 x 0.05) + (0.10 x 0.95)]\n",
    "P(A|B) = 0.332\n",
    "\n",
    "Therefore, the probability of the patient having the disease given their symptoms is 0.332 or 33.2%. This calculation helps the physician make a more informed decision about diagnosis and treatment."
   ]
  },
  {
   "cell_type": "markdown",
   "id": "726ac77d",
   "metadata": {},
   "source": [
    "# Q5: What is a confidence interval? How to calculate the confidence interval, explain with an example.\n",
    "Ans:A confidence interval is a range of values that is likely to contain the true value of a population parameter with a certain level of confidence. It is commonly used in statistics to estimate the range of values within which the population parameter lies, based on a sample from that population.\n",
    "\n",
    "To calculate a confidence interval, one needs to specify the level of confidence desired and the sample statistics such as the sample mean and sample standard deviation. The formula for calculating a confidence interval is:\n",
    "\n",
    "CI = x̄ ± (t * (s/√n))\n",
    "\n",
    "where:\n",
    "\n",
    "CI: the confidence interval\n",
    "x̄: the sample mean\n",
    "t: the t-score or z-score from the t-distribution or standard normal distribution, depending on the sample size and the known population standard deviation\n",
    "s: the sample standard deviation\n",
    "n: the sample size\n",
    "For example, suppose a company wants to estimate the average number of hours its employees work per week. A random sample of 100 employees is taken, and the sample mean is 42 hours, with a sample standard deviation of 6 hours. The company wants to calculate a 95% confidence interval for the true mean number of hours worked per week.\n",
    "\n",
    "Using the formula above, the critical t-score for a 95% confidence level and 99 degrees of freedom (n - 1) is 1.984. Therefore, the 95% confidence interval for the true mean number of hours worked per week is:\n",
    "\n",
    "CI = 42 ± (1.984 * (6/√100))\n",
    "CI = 42 ± 1.188\n",
    "CI = [40.812, 43.188]\n",
    "\n",
    "This means that with a 95% level of confidence, the true mean number of hours worked per week for all employees in the company lies within the interval of 40.812 to 43.188 hours.\n"
   ]
  },
  {
   "cell_type": "markdown",
   "id": "1e7f7d1b",
   "metadata": {},
   "source": [
    "# Q6. Use Bayes' Theorem to calculate the probability of an event occurring given prior knowledge of the event's probability and new evidence. Provide a sample problem and solution.\n",
    "Ans: Here is a sample problem and solution using Bayes' theorem:\n",
    "\n",
    "Problem:\n",
    "Suppose a company has two factories, factory A and factory B, producing widgets. Factory A produces 60% of the widgets, and factory B produces the remaining 40%. Quality control data shows that 5% of the widgets produced by factory A are defective, while 8% of the widgets produced by factory B are defective. A randomly selected widget is found to be defective. What is the probability that the defective widget came from factory A?\n",
    "\n",
    "Solution:\n",
    "We can use Bayes' theorem to calculate the probability that the defective widget came from factory A given the evidence that the widget is defective.\n",
    "\n",
    "Let event A be the event that the defective widget came from factory A, and event D be the event that the widget is defective. Then we have:\n",
    "\n",
    "P(A) = 0.6 (prior probability of the widget coming from factory A)\n",
    "P(D|A) = 0.05 (probability of a defective widget given that it came from factory A)\n",
    "P(D|B) = 0.08 (probability of a defective widget given that it came from factory B)\n",
    "We want to find P(A|D), the probability that the defective widget came from factory A given that it is defective.\n",
    "\n",
    "Using Bayes' theorem, we have:\n",
    "\n",
    "P(A|D) = P(D|A) * P(A) / [P(D|A) * P(A) + P(D|B) * P(B)]\n",
    "\n",
    "where P(B) = 0.4 is the prior probability of the widget coming from factory B.\n",
    "\n",
    "Plugging in the values, we get:\n",
    "\n",
    "P(A|D) = 0.05 * 0.6 / [0.05 * 0.6 + 0.08 * 0.4]\n",
    "P(A|D) = 0.2941\n",
    "\n",
    "Therefore, the probability that the defective widget came from factory A given that it is defective is 0.2941 or 29.41%."
   ]
  },
  {
   "cell_type": "markdown",
   "id": "eebf56ac",
   "metadata": {},
   "source": [
    "# Q7. Calculate the 95% confidence interval for a sample of data with a mean of 50 and a standard deviation of 5. Interpret the results.\n",
    "Ans:To calculate the 95% confidence interval for a sample of data with a mean of 50 and a standard deviation of 5, we need to use the formula:\n",
    "\n",
    "CI = x̄ ± z*(σ/√n)\n",
    "\n",
    "where:\n",
    "\n",
    "CI is the confidence interval\n",
    "x̄ is the sample mean\n",
    "z is the z-score for the desired confidence level (in this case, 95% confidence corresponds to z = 1.96)\n",
    "σ is the population standard deviation (which we do not know, so we use the sample standard deviation instead)\n",
    "n is the sample size\n",
    "Plugging in the given values, we get:\n",
    "\n",
    "CI = 50 ± 1.96*(5/√n)\n",
    "\n",
    "Since we do not know the sample size, we cannot calculate the exact values of the confidence interval. However, we can interpret the results conceptually.\n",
    "\n",
    "The confidence interval tells us that if we were to take many samples of the same size from the same population, and calculate a 95% confidence interval for the mean of each sample, then 95% of those intervals would contain the true population mean. In other words, we are 95% confident that the true population mean falls within the interval.\n",
    "\n",
    "For example, if we take a sample of size 100 and calculate the 95% confidence interval using the formula above, we might obtain a confidence interval of 48.3 to 51.7. This means that we are 95% confident that the true population mean lies between 48.3 and 51.7.\n",
    "\n",
    "\n",
    "\n",
    "\n"
   ]
  },
  {
   "cell_type": "markdown",
   "id": "3a7fae54",
   "metadata": {},
   "source": [
    "# Q8. What is the margin of error in a confidence interval? How does sample size affect the margin of error? Provide an example of a scenario where a larger sample size would result in a smaller margin of error.\n",
    "Ans:The margin of error is the range of values above and below the sample statistic (usually the sample mean) that is likely to contain the true population parameter with a certain degree of confidence. It reflects the precision of the estimate and represents the maximum amount by which the estimate may differ from the true value.\n",
    "\n",
    "The margin of error is affected by several factors, including the sample size, the level of confidence, and the variability of the data. As the sample size increases, the margin of error tends to decrease because larger samples provide more information about the population, and the estimate becomes more accurate and less uncertain.\n",
    "\n",
    "For example, suppose we want to estimate the average height of all students in a college using a 95% confidence interval. If we take a small sample of 10 students, the margin of error might be around 4 inches. This means that the true population mean could be as much as 4 inches higher or lower than the sample mean. However, if we increase the sample size to 100 students, the margin of error would be smaller, perhaps around 1 inch. This means that the estimate is more precise and we can be more confident that the true population mean lies within a narrower range.\n",
    "\n",
    "In general, a larger sample size leads to a smaller margin of error, all else being equal. However, this relationship is not linear, and the law of diminishing returns applies. That is, as the sample size gets larger, the marginal gain in precision decreases, and eventually, the cost and effort of collecting more data may outweigh the benefits of a slightly smaller margin of error."
   ]
  },
  {
   "cell_type": "markdown",
   "id": "e855bca9",
   "metadata": {},
   "source": [
    "# Q9. Calculate the z-score for a data point with a value of 75, a population mean of 70, and a population standard deviation of 5. Interpret the results.\n",
    "Ans:To calculate the z-score for a data point with a value of 75, a population mean of 70, and a population standard deviation of 5, we use the formula:\n",
    "\n",
    "z = (x - μ) / σ\n",
    "\n",
    "where:\n",
    "\n",
    "x is the data point value (75)\n",
    "μ is the population mean (70)\n",
    "σ is the population standard deviation (5)\n",
    "Plugging in the values, we get:\n",
    "\n",
    "z = (75 - 70) / 5\n",
    "z = 1\n",
    "\n",
    "Therefore, the z-score for this data point is 1.\n",
    "\n",
    "Interpreting the results, a z-score of 1 means that the data point is one standard deviation above the population mean. In other words, the value of 75 is higher than the average value by one unit of the standard deviation. This information can be useful in comparing this data point to other data points, assessing the relative variability or rarity of the data, or making inferences about the population distribution."
   ]
  },
  {
   "cell_type": "markdown",
   "id": "059e09b4",
   "metadata": {},
   "source": [
    "# Q10. In a study of the effectiveness of a new weight loss drug, a sample of 50 participants lost an average of 6 pounds with a standard deviation of 2.5 pounds. Conduct a hypothesis test to determine if the drug is significantly effective at a 95% confidence level using a t-test.\n",
    "Ans:To conduct a hypothesis test to determine if the weight loss drug is significantly effective at a 95% confidence level using a t-test, we need to state the null and alternative hypotheses and calculate the t-statistic and p-value.\n",
    "\n",
    "Null hypothesis: The average weight loss for the population of individuals taking the weight loss drug is not significantly different from zero (H0: µ = 0).\n",
    "\n",
    "Alternative hypothesis: The average weight loss for the population of individuals taking the weight loss drug is significantly different from zero (Ha: µ ≠ 0).\n",
    "\n",
    "We will use a two-tailed t-test since we are interested in whether the weight loss is significantly different from zero in either direction.\n",
    "\n",
    "The t-statistic can be calculated using the formula:\n",
    "\n",
    "t = (x̄ - µ) / (s / sqrt(n))\n",
    "\n",
    "where:\n",
    "\n",
    "x̄ is the sample mean (6 pounds)\n",
    "µ is the hypothesized population mean (0 pounds)\n",
    "s is the sample standard deviation (2.5 pounds)\n",
    "n is the sample size (50)\n",
    "Plugging in the values, we get:\n",
    "\n",
    "t = (6 - 0) / (2.5 / sqrt(50))\n",
    "t = 21.21\n",
    "\n",
    "The degrees of freedom for a t-test with a sample size of 50 are 49 (df = n - 1).\n",
    "\n",
    "Using a t-distribution table or a t-distribution calculator with 49 degrees of freedom and a 95% confidence level, we find that the critical t-value is approximately ±2.009.\n",
    "\n",
    "Since the calculated t-value (21.21) is greater than the critical t-value (±2.009), we reject the null hypothesis and conclude that the average weight loss for the population of individuals taking the weight loss drug is significantly different from zero at a 95% confidence level.\n",
    "\n",
    "To confirm this result, we can also calculate the p-value, which represents the probability of obtaining a t-value as extreme or more extreme than the observed t-value, assuming the null hypothesis is true.\n",
    "\n",
    "The p-value for a two-tailed t-test with a calculated t-value of 21.21 and 49 degrees of freedom is less than 0.0001, which means that the probability of obtaining a t-value as extreme or more extreme than 21.21, assuming the null hypothesis is true, is less than 0.0001.\n",
    "\n",
    "Since the p-value is less than the significance level of 0.05, we can also reject the null hypothesis and conclude that the weight loss drug is significantly effective at a 95% confidence level."
   ]
  },
  {
   "cell_type": "markdown",
   "id": "2632ab29",
   "metadata": {},
   "source": [
    "# Q11. In a survey of 500 people, 65% reported being satisfied with their current job. Calculate the 95% confidence interval for the true proportion of people who are satisfied with their job.\n",
    "Ans:To calculate the 95% confidence interval for the true proportion of people who are satisfied with their job, we can use the following formula:\n",
    "\n",
    "CI = p ± zsqrt((p(1-p))/n)\n",
    "\n",
    "where:\n",
    "\n",
    "CI is the confidence interval\n",
    "p is the sample proportion (0.65)\n",
    "z is the z-score for the desired confidence level (1.96 for a 95% confidence level)\n",
    "n is the sample size (500)\n",
    "Plugging in the values, we get:\n",
    "\n",
    "CI = 0.65 ± 1.96sqrt((0.65(1-0.65))/500)\n",
    "CI = 0.65 ± 0.046\n",
    "\n",
    "Therefore, the 95% confidence interval for the true proportion of people who are satisfied with their job is (0.604, 0.696). This means that we can be 95% confident that the true proportion of people who are satisfied with their job is between 60.4% and 69.6%.\n",
    "\n",
    "Interpreting the results, we can say that based on the sample data, we estimate that the proportion of people who are satisfied with their job in the population is likely to be between 60.4% and 69.6%, with a 95% level of confidence."
   ]
  },
  {
   "cell_type": "markdown",
   "id": "79e341e8",
   "metadata": {},
   "source": [
    "# Q12. A researcher is testing the effectiveness of two different teaching methods on student performance.Sample A has a mean score of 85 with a standard deviation of 6, while sample B has a mean score of 82 with a standard deviation of 5. Conduct a hypothesis test to determine if the two teaching methods have a significant difference in student performance using a t-test with a significance level of 0.01.\n",
    "Ans:To test if there is a significant difference in student performance between two teaching methods, we can use a two-sample t-test. The null hypothesis is that there is no significant difference between the means of the two populations, and the alternative hypothesis is that there is a significant difference.\n",
    "\n",
    "Let's assume sample A represents population 1 and sample B represents population 2. Then, the null and alternative hypotheses can be written as:\n",
    "\n",
    "H0: µ1 = µ2 (there is no significant difference in the means of the two populations)\n",
    "Ha: µ1 ≠ µ2 (there is a significant difference in the means of the two populations)\n",
    "We can use the following formula to calculate the t-statistic:\n",
    "\n",
    "t = (x1 - x2) / sqrt((s1^2/n1) + (s2^2/n2))\n",
    "\n",
    "where:\n",
    "\n",
    "x1 and x2 are the sample means (85 for sample A and 82 for sample B)\n",
    "s1 and s2 are the sample standard deviations (6 for sample A and 5 for sample B)\n",
    "n1 and n2 are the sample sizes (assumed to be equal in this case, so we can average them to get n = (n1+n2)/2 = 25)\n",
    "Plugging in the values, we get:\n",
    "\n",
    "t = (85 - 82) / sqrt((6^2/25) + (5^2/25))\n",
    "t = 3 / 1.698\n",
    "t = 1.77\n",
    "\n",
    "Using a t-distribution table with 48 degrees of freedom (25+25-2), and a significance level of 0.01, we find the critical values to be ±2.685. Since our calculated t-value of 1.77 is within this range, we fail to reject the null hypothesis.\n",
    "\n",
    "Therefore, we can conclude that there is not enough evidence to suggest a significant difference in student performance between the two teaching methods at a significance level of 0.01."
   ]
  },
  {
   "cell_type": "markdown",
   "id": "92d70549",
   "metadata": {},
   "source": [
    "# Q13. A population has a mean of 60 and a standard deviation of 8. A sample of 50 observations has a mean of 65. Calculate the 90% confidence interval for the true population mean.\n",
    "Ans:To calculate the 90% confidence interval for the true population mean, we can use the following formula:\n",
    "\n",
    "CI = x̄ ± z*(σ/√n)\n",
    "\n",
    "where:\n",
    "\n",
    "x̄ is the sample mean (65)\n",
    "σ is the population standard deviation (8)\n",
    "n is the sample size (50)\n",
    "z is the z-score for the desired confidence level (0.95 for a 90% confidence level, from a standard normal distribution table)\n",
    "Plugging in the values, we get:\n",
    "\n",
    "CI = 65 ± 1.645*(8/√50)\n",
    "CI = 65 ± 2.32\n",
    "\n",
    "Therefore, the 90% confidence interval for the true population mean is (62.68, 67.32). We can interpret this as: we are 90% confident that the true population mean falls within this range, based on our sample of 50 observations."
   ]
  },
  {
   "cell_type": "markdown",
   "id": "93deafae",
   "metadata": {},
   "source": [
    "# Q14. In a study of the effects of caffeine on reaction time, a sample of 30 participants had an averag  reaction time of 0.25 seconds with a standard deviation of 0.05 seconds. Conduct a hypothesis test to determine if the caffeine has a significant effect on reaction time at a 90% confidence level using a t-test.\n",
    "Ans:To conduct a hypothesis test to determine if caffeine has a significant effect on reaction time at a 90% confidence level using a t-test, we can follow these steps:\n",
    "\n",
    "Step 1: State the null and alternative hypotheses\n",
    "\n",
    "Null hypothesis (H0): The caffeine does not have a significant effect on reaction time (μ = 0.27)\n",
    "Alternative hypothesis (Ha): The caffeine has a significant effect on reaction time (μ ≠ 0.27)\n",
    "Step 2: Determine the level of significance and select the appropriate test\n",
    "\n",
    "Level of significance: 0.1 (90% confidence level)\n",
    "Test: Two-tailed t-test\n",
    "Step 3: Calculate the test statistic\n",
    "\n",
    "Sample size (n) = 30\n",
    "Sample mean (x̄) = 0.25\n",
    "Population standard deviation (σ) = 0.05\n",
    "Null hypothesis population mean (μ0) = 0.27\n",
    "We can calculate the t-statistic using the following formula:\n",
    "\n",
    "t = (x̄ - μ0) / (σ / √n)\n",
    "\n",
    "t = (0.25 - 0.27) / (0.05 / √30)\n",
    "\n",
    "t = -2.45\n",
    "\n",
    "Step 4: Calculate the p-value and make a decision\n",
    "\n",
    "Degrees of freedom (df) = n - 1 = 29\n",
    "Using a t-distribution table with df=29 and α=0.05 (two-tailed test), we find the critical t-value to be ±1.699.\n",
    "Since our calculated t-value of -2.45 is less than -1.699, we can reject the null hypothesis.\n",
    "Using a t-distribution table with df=29 and our calculated t-value of -2.45, we find that the p-value is less than 0.05. This means that we can reject the null hypothesis that caffeine does not have a significant effect on reaction time at a 90% confidence level.\n",
    "\n",
    "Therefore, we can conclude that there is evidence to suggest that caffeine has a significant effect on reaction time, based on our sample of 30 participants."
   ]
  },
  {
   "cell_type": "code",
   "execution_count": null,
   "id": "7c605f72",
   "metadata": {},
   "outputs": [],
   "source": []
  },
  {
   "cell_type": "code",
   "execution_count": null,
   "id": "b3f2f4ea",
   "metadata": {},
   "outputs": [],
   "source": []
  },
  {
   "cell_type": "code",
   "execution_count": null,
   "id": "5ff2c98b",
   "metadata": {},
   "outputs": [],
   "source": []
  },
  {
   "cell_type": "code",
   "execution_count": null,
   "id": "a8e81c61",
   "metadata": {},
   "outputs": [],
   "source": []
  },
  {
   "cell_type": "code",
   "execution_count": null,
   "id": "191fc6bf",
   "metadata": {},
   "outputs": [],
   "source": []
  },
  {
   "cell_type": "code",
   "execution_count": null,
   "id": "ecda3d15",
   "metadata": {},
   "outputs": [],
   "source": []
  },
  {
   "cell_type": "code",
   "execution_count": null,
   "id": "3519beb0",
   "metadata": {},
   "outputs": [],
   "source": []
  },
  {
   "cell_type": "code",
   "execution_count": null,
   "id": "3f5caace",
   "metadata": {},
   "outputs": [],
   "source": []
  },
  {
   "cell_type": "code",
   "execution_count": null,
   "id": "64fed450",
   "metadata": {},
   "outputs": [],
   "source": []
  },
  {
   "cell_type": "code",
   "execution_count": null,
   "id": "9274a3c9",
   "metadata": {},
   "outputs": [],
   "source": []
  },
  {
   "cell_type": "code",
   "execution_count": null,
   "id": "6dc7ab3f",
   "metadata": {},
   "outputs": [],
   "source": []
  },
  {
   "cell_type": "code",
   "execution_count": null,
   "id": "47d2bff9",
   "metadata": {},
   "outputs": [],
   "source": []
  },
  {
   "cell_type": "code",
   "execution_count": null,
   "id": "7cec1430",
   "metadata": {},
   "outputs": [],
   "source": []
  },
  {
   "cell_type": "code",
   "execution_count": null,
   "id": "f2309bdb",
   "metadata": {},
   "outputs": [],
   "source": []
  },
  {
   "cell_type": "code",
   "execution_count": null,
   "id": "bb6315cb",
   "metadata": {},
   "outputs": [],
   "source": []
  },
  {
   "cell_type": "code",
   "execution_count": null,
   "id": "51fb9e9a",
   "metadata": {},
   "outputs": [],
   "source": []
  },
  {
   "cell_type": "code",
   "execution_count": null,
   "id": "96b7ede2",
   "metadata": {},
   "outputs": [],
   "source": []
  },
  {
   "cell_type": "code",
   "execution_count": null,
   "id": "cf0b1ca7",
   "metadata": {},
   "outputs": [],
   "source": []
  },
  {
   "cell_type": "code",
   "execution_count": null,
   "id": "c24825ed",
   "metadata": {},
   "outputs": [],
   "source": []
  },
  {
   "cell_type": "code",
   "execution_count": null,
   "id": "e4225509",
   "metadata": {},
   "outputs": [],
   "source": []
  },
  {
   "cell_type": "code",
   "execution_count": null,
   "id": "2bfad0a4",
   "metadata": {},
   "outputs": [],
   "source": []
  },
  {
   "cell_type": "code",
   "execution_count": null,
   "id": "49aa986e",
   "metadata": {},
   "outputs": [],
   "source": []
  },
  {
   "cell_type": "code",
   "execution_count": null,
   "id": "89b51f60",
   "metadata": {},
   "outputs": [],
   "source": []
  },
  {
   "cell_type": "code",
   "execution_count": null,
   "id": "cd3c7331",
   "metadata": {},
   "outputs": [],
   "source": []
  },
  {
   "cell_type": "code",
   "execution_count": null,
   "id": "2931905a",
   "metadata": {},
   "outputs": [],
   "source": []
  },
  {
   "cell_type": "code",
   "execution_count": null,
   "id": "27dab994",
   "metadata": {},
   "outputs": [],
   "source": []
  },
  {
   "cell_type": "code",
   "execution_count": null,
   "id": "44744aa6",
   "metadata": {},
   "outputs": [],
   "source": []
  },
  {
   "cell_type": "code",
   "execution_count": null,
   "id": "1c654407",
   "metadata": {},
   "outputs": [],
   "source": []
  },
  {
   "cell_type": "code",
   "execution_count": null,
   "id": "6eca98e7",
   "metadata": {},
   "outputs": [],
   "source": []
  },
  {
   "cell_type": "code",
   "execution_count": null,
   "id": "655d9905",
   "metadata": {},
   "outputs": [],
   "source": []
  },
  {
   "cell_type": "code",
   "execution_count": null,
   "id": "7f0bc3cd",
   "metadata": {},
   "outputs": [],
   "source": []
  },
  {
   "cell_type": "code",
   "execution_count": null,
   "id": "f4f85af9",
   "metadata": {},
   "outputs": [],
   "source": []
  },
  {
   "cell_type": "code",
   "execution_count": null,
   "id": "c8bc07a5",
   "metadata": {},
   "outputs": [],
   "source": []
  },
  {
   "cell_type": "code",
   "execution_count": null,
   "id": "fe4ea1ea",
   "metadata": {},
   "outputs": [],
   "source": []
  },
  {
   "cell_type": "code",
   "execution_count": null,
   "id": "8474d79f",
   "metadata": {},
   "outputs": [],
   "source": []
  },
  {
   "cell_type": "code",
   "execution_count": null,
   "id": "e37e2de4",
   "metadata": {},
   "outputs": [],
   "source": []
  }
 ],
 "metadata": {
  "kernelspec": {
   "display_name": "Python 3 (ipykernel)",
   "language": "python",
   "name": "python3"
  },
  "language_info": {
   "codemirror_mode": {
    "name": "ipython",
    "version": 3
   },
   "file_extension": ".py",
   "mimetype": "text/x-python",
   "name": "python",
   "nbconvert_exporter": "python",
   "pygments_lexer": "ipython3",
   "version": "3.10.5"
  }
 },
 "nbformat": 4,
 "nbformat_minor": 5
}
